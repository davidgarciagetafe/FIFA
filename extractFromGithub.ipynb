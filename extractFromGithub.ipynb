{
 "cells": [
  {
   "cell_type": "code",
   "execution_count": 3,
   "metadata": {},
   "outputs": [],
   "source": [
    "#pip install scrapy"
   ]
  },
  {
   "cell_type": "code",
   "execution_count": 22,
   "metadata": {},
   "outputs": [],
   "source": [
    "import json\n",
    "import requests\n",
    "import pymongo\n",
    "from urllib.request import urlopen\n",
    "from bs4 import BeautifulSoup\n",
    "from pymongo import MongoClient\n",
    "from bson import BSON\n",
    "from bson import json_util\n"
   ]
  },
  {
   "cell_type": "code",
   "execution_count": 23,
   "metadata": {},
   "outputs": [],
   "source": [
    "url= \"https://github.com/annexare/Countries/tree/master/data\""
   ]
  },
  {
   "cell_type": "code",
   "execution_count": 24,
   "metadata": {},
   "outputs": [],
   "source": [
    "data = requests.get(url).text"
   ]
  },
  {
   "cell_type": "code",
   "execution_count": 25,
   "metadata": {},
   "outputs": [],
   "source": [
    "soup = BeautifulSoup(data)"
   ]
  },
  {
   "cell_type": "code",
   "execution_count": 26,
   "metadata": {},
   "outputs": [],
   "source": [
    "def writeJson(fileName, json):\n",
    "      with open(fileName, 'w') as outfile:\n",
    "            json.dump(json_string, outfile)"
   ]
  },
  {
   "cell_type": "code",
   "execution_count": 27,
   "metadata": {},
   "outputs": [],
   "source": [
    "client = MongoClient('localhost', 27017)\n",
    "db= client.test_ea"
   ]
  },
  {
   "cell_type": "code",
   "execution_count": 43,
   "metadata": {},
   "outputs": [],
   "source": [
    "def writeMongo(dbName,jsonString):\n",
    "    collection = db[dbName]\n",
    "    collection.insert_one(jsonString).inserted_id"
   ]
  },
  {
   "cell_type": "code",
   "execution_count": 46,
   "metadata": {},
   "outputs": [
    {
     "name": "stdout",
     "output_type": "stream",
     "text": [
      "continents\n",
      "countries\n",
      "languages\n"
     ]
    }
   ],
   "source": [
    "for link in soup.find_all('a'):\n",
    "    if link.text.endswith(\".json\"):\n",
    "        url = link.get(\"href\")\n",
    "        auxFileName = url.replace(\"blob/\", \"\").split(\"/\")\n",
    "        fileName = auxFileName[len(auxFileName)-1].split(\".\")[0]\n",
    "        print(fileName)\n",
    "        \n",
    "        auxLink = \"https://raw.githubusercontent.com\"+url.replace(\"blob/\", \"\")\n",
    "        #data = requests.get(auxLink).text\n",
    "        json_string = json.dumps(json.loads(requests.get(auxLink).text))\n",
    "        json_docs = json.loads(json_string)\n",
    "        writeMongo(fileName, json_docs)\n",
    "       "
   ]
  },
  {
   "cell_type": "code",
   "execution_count": null,
   "metadata": {},
   "outputs": [],
   "source": []
  }
 ],
 "metadata": {
  "kernelspec": {
   "display_name": "Python 3",
   "language": "python",
   "name": "python3"
  },
  "language_info": {
   "codemirror_mode": {
    "name": "ipython",
    "version": 3
   },
   "file_extension": ".py",
   "mimetype": "text/x-python",
   "name": "python",
   "nbconvert_exporter": "python",
   "pygments_lexer": "ipython3",
   "version": "3.7.4"
  }
 },
 "nbformat": 4,
 "nbformat_minor": 4
}
